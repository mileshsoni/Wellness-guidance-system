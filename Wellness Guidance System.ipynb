{
 "cells": [
  {
   "cell_type": "code",
   "id": "initial_id",
   "metadata": {
    "collapsed": true,
    "ExecuteTime": {
     "end_time": "2025-04-08T09:02:08.356788Z",
     "start_time": "2025-04-08T09:02:07.619900Z"
    }
   },
   "source": [
    "import re\n",
    "\n",
    "import pandas as pd"
   ],
   "outputs": [],
   "execution_count": 1
  },
  {
   "metadata": {
    "ExecuteTime": {
     "end_time": "2025-04-08T09:02:08.488033Z",
     "start_time": "2025-04-08T09:02:08.373784Z"
    }
   },
   "cell_type": "code",
   "source": "df = pd.read_csv('Training.csv')",
   "id": "86a8d379adbfdc90",
   "outputs": [],
   "execution_count": 2
  },
  {
   "metadata": {
    "ExecuteTime": {
     "end_time": "2025-04-08T09:02:08.956091Z",
     "start_time": "2025-04-08T09:02:08.944063Z"
    }
   },
   "cell_type": "code",
   "source": "df.shape",
   "id": "684c6148b273f3cd",
   "outputs": [
    {
     "data": {
      "text/plain": [
       "(4920, 133)"
      ]
     },
     "execution_count": 3,
     "metadata": {},
     "output_type": "execute_result"
    }
   ],
   "execution_count": 3
  },
  {
   "metadata": {
    "ExecuteTime": {
     "end_time": "2025-04-08T09:02:09.100903Z",
     "start_time": "2025-04-08T09:02:09.068772Z"
    }
   },
   "cell_type": "code",
   "source": "df.head()",
   "id": "1ab36d837aa92661",
   "outputs": [
    {
     "data": {
      "text/plain": [
       "   itching  skin_rash  nodal_skin_eruptions  continuous_sneezing  shivering  \\\n",
       "0        1          1                     1                    0          0   \n",
       "1        0          1                     1                    0          0   \n",
       "2        1          0                     1                    0          0   \n",
       "3        1          1                     0                    0          0   \n",
       "4        1          1                     1                    0          0   \n",
       "\n",
       "   chills  joint_pain  stomach_pain  acidity  ulcers_on_tongue  ...  \\\n",
       "0       0           0             0        0                 0  ...   \n",
       "1       0           0             0        0                 0  ...   \n",
       "2       0           0             0        0                 0  ...   \n",
       "3       0           0             0        0                 0  ...   \n",
       "4       0           0             0        0                 0  ...   \n",
       "\n",
       "   blackheads  scurring  skin_peeling  silver_like_dusting  \\\n",
       "0           0         0             0                    0   \n",
       "1           0         0             0                    0   \n",
       "2           0         0             0                    0   \n",
       "3           0         0             0                    0   \n",
       "4           0         0             0                    0   \n",
       "\n",
       "   small_dents_in_nails  inflammatory_nails  blister  red_sore_around_nose  \\\n",
       "0                     0                   0        0                     0   \n",
       "1                     0                   0        0                     0   \n",
       "2                     0                   0        0                     0   \n",
       "3                     0                   0        0                     0   \n",
       "4                     0                   0        0                     0   \n",
       "\n",
       "   yellow_crust_ooze         prognosis  \n",
       "0                  0  Fungal infection  \n",
       "1                  0  Fungal infection  \n",
       "2                  0  Fungal infection  \n",
       "3                  0  Fungal infection  \n",
       "4                  0  Fungal infection  \n",
       "\n",
       "[5 rows x 133 columns]"
      ],
      "text/html": [
       "<div>\n",
       "<style scoped>\n",
       "    .dataframe tbody tr th:only-of-type {\n",
       "        vertical-align: middle;\n",
       "    }\n",
       "\n",
       "    .dataframe tbody tr th {\n",
       "        vertical-align: top;\n",
       "    }\n",
       "\n",
       "    .dataframe thead th {\n",
       "        text-align: right;\n",
       "    }\n",
       "</style>\n",
       "<table border=\"1\" class=\"dataframe\">\n",
       "  <thead>\n",
       "    <tr style=\"text-align: right;\">\n",
       "      <th></th>\n",
       "      <th>itching</th>\n",
       "      <th>skin_rash</th>\n",
       "      <th>nodal_skin_eruptions</th>\n",
       "      <th>continuous_sneezing</th>\n",
       "      <th>shivering</th>\n",
       "      <th>chills</th>\n",
       "      <th>joint_pain</th>\n",
       "      <th>stomach_pain</th>\n",
       "      <th>acidity</th>\n",
       "      <th>ulcers_on_tongue</th>\n",
       "      <th>...</th>\n",
       "      <th>blackheads</th>\n",
       "      <th>scurring</th>\n",
       "      <th>skin_peeling</th>\n",
       "      <th>silver_like_dusting</th>\n",
       "      <th>small_dents_in_nails</th>\n",
       "      <th>inflammatory_nails</th>\n",
       "      <th>blister</th>\n",
       "      <th>red_sore_around_nose</th>\n",
       "      <th>yellow_crust_ooze</th>\n",
       "      <th>prognosis</th>\n",
       "    </tr>\n",
       "  </thead>\n",
       "  <tbody>\n",
       "    <tr>\n",
       "      <th>0</th>\n",
       "      <td>1</td>\n",
       "      <td>1</td>\n",
       "      <td>1</td>\n",
       "      <td>0</td>\n",
       "      <td>0</td>\n",
       "      <td>0</td>\n",
       "      <td>0</td>\n",
       "      <td>0</td>\n",
       "      <td>0</td>\n",
       "      <td>0</td>\n",
       "      <td>...</td>\n",
       "      <td>0</td>\n",
       "      <td>0</td>\n",
       "      <td>0</td>\n",
       "      <td>0</td>\n",
       "      <td>0</td>\n",
       "      <td>0</td>\n",
       "      <td>0</td>\n",
       "      <td>0</td>\n",
       "      <td>0</td>\n",
       "      <td>Fungal infection</td>\n",
       "    </tr>\n",
       "    <tr>\n",
       "      <th>1</th>\n",
       "      <td>0</td>\n",
       "      <td>1</td>\n",
       "      <td>1</td>\n",
       "      <td>0</td>\n",
       "      <td>0</td>\n",
       "      <td>0</td>\n",
       "      <td>0</td>\n",
       "      <td>0</td>\n",
       "      <td>0</td>\n",
       "      <td>0</td>\n",
       "      <td>...</td>\n",
       "      <td>0</td>\n",
       "      <td>0</td>\n",
       "      <td>0</td>\n",
       "      <td>0</td>\n",
       "      <td>0</td>\n",
       "      <td>0</td>\n",
       "      <td>0</td>\n",
       "      <td>0</td>\n",
       "      <td>0</td>\n",
       "      <td>Fungal infection</td>\n",
       "    </tr>\n",
       "    <tr>\n",
       "      <th>2</th>\n",
       "      <td>1</td>\n",
       "      <td>0</td>\n",
       "      <td>1</td>\n",
       "      <td>0</td>\n",
       "      <td>0</td>\n",
       "      <td>0</td>\n",
       "      <td>0</td>\n",
       "      <td>0</td>\n",
       "      <td>0</td>\n",
       "      <td>0</td>\n",
       "      <td>...</td>\n",
       "      <td>0</td>\n",
       "      <td>0</td>\n",
       "      <td>0</td>\n",
       "      <td>0</td>\n",
       "      <td>0</td>\n",
       "      <td>0</td>\n",
       "      <td>0</td>\n",
       "      <td>0</td>\n",
       "      <td>0</td>\n",
       "      <td>Fungal infection</td>\n",
       "    </tr>\n",
       "    <tr>\n",
       "      <th>3</th>\n",
       "      <td>1</td>\n",
       "      <td>1</td>\n",
       "      <td>0</td>\n",
       "      <td>0</td>\n",
       "      <td>0</td>\n",
       "      <td>0</td>\n",
       "      <td>0</td>\n",
       "      <td>0</td>\n",
       "      <td>0</td>\n",
       "      <td>0</td>\n",
       "      <td>...</td>\n",
       "      <td>0</td>\n",
       "      <td>0</td>\n",
       "      <td>0</td>\n",
       "      <td>0</td>\n",
       "      <td>0</td>\n",
       "      <td>0</td>\n",
       "      <td>0</td>\n",
       "      <td>0</td>\n",
       "      <td>0</td>\n",
       "      <td>Fungal infection</td>\n",
       "    </tr>\n",
       "    <tr>\n",
       "      <th>4</th>\n",
       "      <td>1</td>\n",
       "      <td>1</td>\n",
       "      <td>1</td>\n",
       "      <td>0</td>\n",
       "      <td>0</td>\n",
       "      <td>0</td>\n",
       "      <td>0</td>\n",
       "      <td>0</td>\n",
       "      <td>0</td>\n",
       "      <td>0</td>\n",
       "      <td>...</td>\n",
       "      <td>0</td>\n",
       "      <td>0</td>\n",
       "      <td>0</td>\n",
       "      <td>0</td>\n",
       "      <td>0</td>\n",
       "      <td>0</td>\n",
       "      <td>0</td>\n",
       "      <td>0</td>\n",
       "      <td>0</td>\n",
       "      <td>Fungal infection</td>\n",
       "    </tr>\n",
       "  </tbody>\n",
       "</table>\n",
       "<p>5 rows × 133 columns</p>\n",
       "</div>"
      ]
     },
     "execution_count": 4,
     "metadata": {},
     "output_type": "execute_result"
    }
   ],
   "execution_count": 4
  },
  {
   "metadata": {
    "ExecuteTime": {
     "end_time": "2025-04-08T09:02:09.223860Z",
     "start_time": "2025-04-08T09:02:09.216554Z"
    }
   },
   "cell_type": "code",
   "source": "df['prognosis'].unique().shape",
   "id": "b2bc2465efc6851",
   "outputs": [
    {
     "data": {
      "text/plain": [
       "(41,)"
      ]
     },
     "execution_count": 5,
     "metadata": {},
     "output_type": "execute_result"
    }
   ],
   "execution_count": 5
  },
  {
   "metadata": {
    "ExecuteTime": {
     "end_time": "2025-04-08T09:02:09.279586Z",
     "start_time": "2025-04-08T09:02:09.271080Z"
    }
   },
   "cell_type": "code",
   "source": "df['prognosis'].value_counts()",
   "id": "b9a4bb122ff2e8e7",
   "outputs": [
    {
     "data": {
      "text/plain": [
       "prognosis\n",
       "Fungal infection                           120\n",
       "Allergy                                    120\n",
       "GERD                                       120\n",
       "Chronic cholestasis                        120\n",
       "Drug Reaction                              120\n",
       "Peptic ulcer diseae                        120\n",
       "AIDS                                       120\n",
       "Diabetes                                   120\n",
       "Gastroenteritis                            120\n",
       "Bronchial Asthma                           120\n",
       "Hypertension                               120\n",
       "Migraine                                   120\n",
       "Cervical spondylosis                       120\n",
       "Paralysis (brain hemorrhage)               120\n",
       "Jaundice                                   120\n",
       "Malaria                                    120\n",
       "Chicken pox                                120\n",
       "Dengue                                     120\n",
       "Typhoid                                    120\n",
       "hepatitis A                                120\n",
       "Hepatitis B                                120\n",
       "Hepatitis C                                120\n",
       "Hepatitis D                                120\n",
       "Hepatitis E                                120\n",
       "Alcoholic hepatitis                        120\n",
       "Tuberculosis                               120\n",
       "Common Cold                                120\n",
       "Pneumonia                                  120\n",
       "Dimorphic hemmorhoids(piles)               120\n",
       "Heart attack                               120\n",
       "Varicose veins                             120\n",
       "Hypothyroidism                             120\n",
       "Hyperthyroidism                            120\n",
       "Hypoglycemia                               120\n",
       "Osteoarthristis                            120\n",
       "Arthritis                                  120\n",
       "(vertigo) Paroymsal  Positional Vertigo    120\n",
       "Acne                                       120\n",
       "Urinary tract infection                    120\n",
       "Psoriasis                                  120\n",
       "Impetigo                                   120\n",
       "Name: count, dtype: int64"
      ]
     },
     "execution_count": 6,
     "metadata": {},
     "output_type": "execute_result"
    }
   ],
   "execution_count": 6
  },
  {
   "metadata": {
    "ExecuteTime": {
     "end_time": "2025-04-08T09:02:19.730688Z",
     "start_time": "2025-04-08T09:02:09.399698Z"
    }
   },
   "cell_type": "code",
   "source": [
    "from sklearn.model_selection import train_test_split\n",
    "from sklearn.preprocessing import LabelEncoder"
   ],
   "id": "284bfd6b41ad9e01",
   "outputs": [],
   "execution_count": 7
  },
  {
   "metadata": {
    "ExecuteTime": {
     "end_time": "2025-04-08T09:02:19.746942Z",
     "start_time": "2025-04-08T09:02:19.738696Z"
    }
   },
   "cell_type": "code",
   "source": [
    "x = df.drop(columns=['prognosis'])\n",
    "y = df['prognosis']"
   ],
   "id": "97d8ccc3da79f587",
   "outputs": [],
   "execution_count": 8
  },
  {
   "metadata": {
    "ExecuteTime": {
     "end_time": "2025-04-08T09:02:19.797272Z",
     "start_time": "2025-04-08T09:02:19.784340Z"
    }
   },
   "cell_type": "code",
   "source": "x_train, x_test, y_train, y_test = train_test_split(x, y, test_size=0.3, random_state=42)",
   "id": "2092b59a62e6f508",
   "outputs": [],
   "execution_count": 9
  },
  {
   "metadata": {
    "ExecuteTime": {
     "end_time": "2025-04-08T09:02:19.934839Z",
     "start_time": "2025-04-08T09:02:19.927294Z"
    }
   },
   "cell_type": "code",
   "source": "x_train.shape, y_train.shape, x_test.shape, y_test.shape",
   "id": "aae3c86e26486d4b",
   "outputs": [
    {
     "data": {
      "text/plain": [
       "((3444, 132), (3444,), (1476, 132), (1476,))"
      ]
     },
     "execution_count": 10,
     "metadata": {},
     "output_type": "execute_result"
    }
   ],
   "execution_count": 10
  },
  {
   "metadata": {
    "ExecuteTime": {
     "end_time": "2025-04-08T09:02:20.026342Z",
     "start_time": "2025-04-08T09:02:20.014373Z"
    }
   },
   "cell_type": "code",
   "source": "df.isnull().sum()",
   "id": "ca81f3c78f504669",
   "outputs": [
    {
     "data": {
      "text/plain": [
       "itching                 0\n",
       "skin_rash               0\n",
       "nodal_skin_eruptions    0\n",
       "continuous_sneezing     0\n",
       "shivering               0\n",
       "                       ..\n",
       "inflammatory_nails      0\n",
       "blister                 0\n",
       "red_sore_around_nose    0\n",
       "yellow_crust_ooze       0\n",
       "prognosis               0\n",
       "Length: 133, dtype: int64"
      ]
     },
     "execution_count": 11,
     "metadata": {},
     "output_type": "execute_result"
    }
   ],
   "execution_count": 11
  },
  {
   "metadata": {
    "ExecuteTime": {
     "end_time": "2025-04-08T09:02:20.139079Z",
     "start_time": "2025-04-08T09:02:20.130017Z"
    }
   },
   "cell_type": "code",
   "source": [
    "label_encoder = LabelEncoder()\n",
    "y_train = label_encoder.fit_transform(y_train)\n",
    "y_test = label_encoder.transform(y_test)"
   ],
   "id": "8f1f8ef88e72fa2d",
   "outputs": [],
   "execution_count": 12
  },
  {
   "metadata": {
    "ExecuteTime": {
     "end_time": "2025-04-08T09:02:22.254756Z",
     "start_time": "2025-04-08T09:02:20.245112Z"
    }
   },
   "cell_type": "code",
   "source": [
    "from sklearn.linear_model import LogisticRegression\n",
    "from sklearn.svm import SVC\n",
    "from sklearn.neighbors import KNeighborsClassifier\n",
    "from sklearn.tree import DecisionTreeClassifier\n",
    "from sklearn.ensemble import (\n",
    "    RandomForestClassifier, ExtraTreesClassifier,\n",
    "    GradientBoostingClassifier, AdaBoostClassifier\n",
    ")\n",
    "from sklearn.naive_bayes import GaussianNB\n",
    "from xgboost import XGBClassifier\n",
    "\n",
    "model_dict = {\n",
    "    'logistic_reg': LogisticRegression(),\n",
    "    'svc': SVC(probability=True),\n",
    "    'knn': KNeighborsClassifier(),\n",
    "    'decision_tree': DecisionTreeClassifier(),\n",
    "    'random_forest': RandomForestClassifier(),\n",
    "    'extra_trees': ExtraTreesClassifier(),\n",
    "    'gradient_boosting': GradientBoostingClassifier(),\n",
    "    'adaboost': AdaBoostClassifier(algorithm='SAMME'),\n",
    "    'naive_bayes': GaussianNB(),\n",
    "    'xgboost': XGBClassifier()\n",
    "}"
   ],
   "id": "479ff1d754e208ef",
   "outputs": [],
   "execution_count": 13
  },
  {
   "metadata": {
    "ExecuteTime": {
     "end_time": "2025-04-08T09:02:22.268390Z",
     "start_time": "2025-04-08T09:02:22.260764Z"
    }
   },
   "cell_type": "code",
   "source": [
    "from sklearn.metrics import accuracy_score, precision_score, recall_score, f1_score, confusion_matrix\n",
    "model_confusion = {}\n",
    "def evaluate_models(x_train, x_test, y_train, y_test, model_dict):\n",
    "\n",
    "    results = []\n",
    "\n",
    "    for name, model in model_dict.items():\n",
    "        try:\n",
    "            model.fit(x_train, y_train)\n",
    "            y_pred = model.predict(x_test)\n",
    "\n",
    "            acc = accuracy_score(y_test, y_pred)\n",
    "            prec = precision_score(y_test, y_pred, average='macro', zero_division=0)\n",
    "            rec = recall_score(y_test, y_pred, average='macro', zero_division=0)\n",
    "            f1 = f1_score(y_test, y_pred, average='macro', zero_division=0)\n",
    "\n",
    "            results.append({\n",
    "                'Model': name,\n",
    "                'Accuracy': acc,\n",
    "                'Precision': prec,\n",
    "                'Recall': rec,\n",
    "                'F1 Score': f1\n",
    "            })\n",
    "            model_confusion[name] = confusion_matrix(y_test, y_pred)\n",
    "        except Exception as e:\n",
    "            print(f\"Model {name} failed with error: {e}\")\n",
    "\n",
    "\n",
    "    return results\n"
   ],
   "id": "abe29683aefa9419",
   "outputs": [],
   "execution_count": 14
  },
  {
   "metadata": {
    "ExecuteTime": {
     "end_time": "2025-04-08T09:02:50.627408Z",
     "start_time": "2025-04-08T09:02:22.309304Z"
    }
   },
   "cell_type": "code",
   "source": "results = evaluate_models(x_train, x_test, y_train, y_test, model_dict)",
   "id": "c38a20e3374cd825",
   "outputs": [],
   "execution_count": 15
  },
  {
   "metadata": {
    "ExecuteTime": {
     "end_time": "2025-04-08T09:02:50.704109Z",
     "start_time": "2025-04-08T09:02:50.686961Z"
    }
   },
   "cell_type": "code",
   "source": "pd.DataFrame(results, columns=['Model', 'Accuracy', 'Precision', 'Recall', 'F1 Score'])",
   "id": "fa44efd957d89430",
   "outputs": [
    {
     "data": {
      "text/plain": [
       "               Model  Accuracy  Precision    Recall  F1 Score\n",
       "0       logistic_reg  1.000000   1.000000  1.000000  1.000000\n",
       "1                svc  1.000000   1.000000  1.000000  1.000000\n",
       "2                knn  1.000000   1.000000  1.000000  1.000000\n",
       "3      decision_tree  1.000000   1.000000  1.000000  1.000000\n",
       "4      random_forest  1.000000   1.000000  1.000000  1.000000\n",
       "5        extra_trees  1.000000   1.000000  1.000000  1.000000\n",
       "6  gradient_boosting  1.000000   1.000000  1.000000  1.000000\n",
       "7           adaboost  0.102981   0.098188  0.110644  0.092657\n",
       "8        naive_bayes  1.000000   1.000000  1.000000  1.000000\n",
       "9            xgboost  1.000000   1.000000  1.000000  1.000000"
      ],
      "text/html": [
       "<div>\n",
       "<style scoped>\n",
       "    .dataframe tbody tr th:only-of-type {\n",
       "        vertical-align: middle;\n",
       "    }\n",
       "\n",
       "    .dataframe tbody tr th {\n",
       "        vertical-align: top;\n",
       "    }\n",
       "\n",
       "    .dataframe thead th {\n",
       "        text-align: right;\n",
       "    }\n",
       "</style>\n",
       "<table border=\"1\" class=\"dataframe\">\n",
       "  <thead>\n",
       "    <tr style=\"text-align: right;\">\n",
       "      <th></th>\n",
       "      <th>Model</th>\n",
       "      <th>Accuracy</th>\n",
       "      <th>Precision</th>\n",
       "      <th>Recall</th>\n",
       "      <th>F1 Score</th>\n",
       "    </tr>\n",
       "  </thead>\n",
       "  <tbody>\n",
       "    <tr>\n",
       "      <th>0</th>\n",
       "      <td>logistic_reg</td>\n",
       "      <td>1.000000</td>\n",
       "      <td>1.000000</td>\n",
       "      <td>1.000000</td>\n",
       "      <td>1.000000</td>\n",
       "    </tr>\n",
       "    <tr>\n",
       "      <th>1</th>\n",
       "      <td>svc</td>\n",
       "      <td>1.000000</td>\n",
       "      <td>1.000000</td>\n",
       "      <td>1.000000</td>\n",
       "      <td>1.000000</td>\n",
       "    </tr>\n",
       "    <tr>\n",
       "      <th>2</th>\n",
       "      <td>knn</td>\n",
       "      <td>1.000000</td>\n",
       "      <td>1.000000</td>\n",
       "      <td>1.000000</td>\n",
       "      <td>1.000000</td>\n",
       "    </tr>\n",
       "    <tr>\n",
       "      <th>3</th>\n",
       "      <td>decision_tree</td>\n",
       "      <td>1.000000</td>\n",
       "      <td>1.000000</td>\n",
       "      <td>1.000000</td>\n",
       "      <td>1.000000</td>\n",
       "    </tr>\n",
       "    <tr>\n",
       "      <th>4</th>\n",
       "      <td>random_forest</td>\n",
       "      <td>1.000000</td>\n",
       "      <td>1.000000</td>\n",
       "      <td>1.000000</td>\n",
       "      <td>1.000000</td>\n",
       "    </tr>\n",
       "    <tr>\n",
       "      <th>5</th>\n",
       "      <td>extra_trees</td>\n",
       "      <td>1.000000</td>\n",
       "      <td>1.000000</td>\n",
       "      <td>1.000000</td>\n",
       "      <td>1.000000</td>\n",
       "    </tr>\n",
       "    <tr>\n",
       "      <th>6</th>\n",
       "      <td>gradient_boosting</td>\n",
       "      <td>1.000000</td>\n",
       "      <td>1.000000</td>\n",
       "      <td>1.000000</td>\n",
       "      <td>1.000000</td>\n",
       "    </tr>\n",
       "    <tr>\n",
       "      <th>7</th>\n",
       "      <td>adaboost</td>\n",
       "      <td>0.102981</td>\n",
       "      <td>0.098188</td>\n",
       "      <td>0.110644</td>\n",
       "      <td>0.092657</td>\n",
       "    </tr>\n",
       "    <tr>\n",
       "      <th>8</th>\n",
       "      <td>naive_bayes</td>\n",
       "      <td>1.000000</td>\n",
       "      <td>1.000000</td>\n",
       "      <td>1.000000</td>\n",
       "      <td>1.000000</td>\n",
       "    </tr>\n",
       "    <tr>\n",
       "      <th>9</th>\n",
       "      <td>xgboost</td>\n",
       "      <td>1.000000</td>\n",
       "      <td>1.000000</td>\n",
       "      <td>1.000000</td>\n",
       "      <td>1.000000</td>\n",
       "    </tr>\n",
       "  </tbody>\n",
       "</table>\n",
       "</div>"
      ]
     },
     "execution_count": 16,
     "metadata": {},
     "output_type": "execute_result"
    }
   ],
   "execution_count": 16
  },
  {
   "metadata": {
    "ExecuteTime": {
     "end_time": "2025-04-08T09:02:50.793257Z",
     "start_time": "2025-04-08T09:02:50.785048Z"
    }
   },
   "cell_type": "code",
   "source": [
    "for model_name, matrix in model_confusion.items():\n",
    "    print(model_name, matrix)"
   ],
   "id": "8c45f911f2dcff6",
   "outputs": [
    {
     "name": "stdout",
     "output_type": "stream",
     "text": [
      "logistic_reg [[32  0  0 ...  0  0  0]\n",
      " [ 0 39  0 ...  0  0  0]\n",
      " [ 0  0 41 ...  0  0  0]\n",
      " ...\n",
      " [ 0  0  0 ... 36  0  0]\n",
      " [ 0  0  0 ...  0 37  0]\n",
      " [ 0  0  0 ...  0  0 39]]\n",
      "svc [[32  0  0 ...  0  0  0]\n",
      " [ 0 39  0 ...  0  0  0]\n",
      " [ 0  0 41 ...  0  0  0]\n",
      " ...\n",
      " [ 0  0  0 ... 36  0  0]\n",
      " [ 0  0  0 ...  0 37  0]\n",
      " [ 0  0  0 ...  0  0 39]]\n",
      "knn [[32  0  0 ...  0  0  0]\n",
      " [ 0 39  0 ...  0  0  0]\n",
      " [ 0  0 41 ...  0  0  0]\n",
      " ...\n",
      " [ 0  0  0 ... 36  0  0]\n",
      " [ 0  0  0 ...  0 37  0]\n",
      " [ 0  0  0 ...  0  0 39]]\n",
      "decision_tree [[32  0  0 ...  0  0  0]\n",
      " [ 0 39  0 ...  0  0  0]\n",
      " [ 0  0 41 ...  0  0  0]\n",
      " ...\n",
      " [ 0  0  0 ... 36  0  0]\n",
      " [ 0  0  0 ...  0 37  0]\n",
      " [ 0  0  0 ...  0  0 39]]\n",
      "random_forest [[32  0  0 ...  0  0  0]\n",
      " [ 0 39  0 ...  0  0  0]\n",
      " [ 0  0 41 ...  0  0  0]\n",
      " ...\n",
      " [ 0  0  0 ... 36  0  0]\n",
      " [ 0  0  0 ...  0 37  0]\n",
      " [ 0  0  0 ...  0  0 39]]\n",
      "extra_trees [[32  0  0 ...  0  0  0]\n",
      " [ 0 39  0 ...  0  0  0]\n",
      " [ 0  0 41 ...  0  0  0]\n",
      " ...\n",
      " [ 0  0  0 ... 36  0  0]\n",
      " [ 0  0  0 ...  0 37  0]\n",
      " [ 0  0  0 ...  0  0 39]]\n",
      "gradient_boosting [[32  0  0 ...  0  0  0]\n",
      " [ 0 39  0 ...  0  0  0]\n",
      " [ 0  0 41 ...  0  0  0]\n",
      " ...\n",
      " [ 0  0  0 ... 36  0  0]\n",
      " [ 0  0  0 ...  0 37  0]\n",
      " [ 0  0  0 ...  0  0 39]]\n",
      "adaboost [[0 0 0 ... 0 0 0]\n",
      " [0 0 0 ... 0 0 0]\n",
      " [0 0 0 ... 0 0 0]\n",
      " ...\n",
      " [0 0 0 ... 0 0 0]\n",
      " [0 0 0 ... 0 0 0]\n",
      " [0 0 0 ... 0 0 0]]\n",
      "naive_bayes [[32  0  0 ...  0  0  0]\n",
      " [ 0 39  0 ...  0  0  0]\n",
      " [ 0  0 41 ...  0  0  0]\n",
      " ...\n",
      " [ 0  0  0 ... 36  0  0]\n",
      " [ 0  0  0 ...  0 37  0]\n",
      " [ 0  0  0 ...  0  0 39]]\n",
      "xgboost [[32  0  0 ...  0  0  0]\n",
      " [ 0 39  0 ...  0  0  0]\n",
      " [ 0  0 41 ...  0  0  0]\n",
      " ...\n",
      " [ 0  0  0 ... 36  0  0]\n",
      " [ 0  0  0 ...  0 37  0]\n",
      " [ 0  0  0 ...  0  0 39]]\n"
     ]
    }
   ],
   "execution_count": 17
  },
  {
   "metadata": {
    "ExecuteTime": {
     "end_time": "2025-04-08T09:02:52.384152Z",
     "start_time": "2025-04-08T09:02:50.857363Z"
    }
   },
   "cell_type": "code",
   "source": [
    "svc = SVC(probability=True)\n",
    "svc.fit(x_train, y_train)\n",
    "y_pred = svc.predict(x_test)\n",
    "acc = accuracy_score(y_test, y_pred)\n",
    "acc"
   ],
   "id": "ea35bf127adc0070",
   "outputs": [
    {
     "data": {
      "text/plain": [
       "1.0"
      ]
     },
     "execution_count": 18,
     "metadata": {},
     "output_type": "execute_result"
    }
   ],
   "execution_count": 18
  },
  {
   "metadata": {
    "ExecuteTime": {
     "end_time": "2025-04-08T09:02:52.425333Z",
     "start_time": "2025-04-08T09:02:52.419103Z"
    }
   },
   "cell_type": "code",
   "source": [
    "import pickle\n",
    "pickle.dump(svc, open('svc.pkl', 'wb'))"
   ],
   "id": "df8a90804bdad440",
   "outputs": [],
   "execution_count": 19
  },
  {
   "metadata": {
    "ExecuteTime": {
     "end_time": "2025-04-08T09:02:52.477553Z",
     "start_time": "2025-04-08T09:02:52.463166Z"
    }
   },
   "cell_type": "code",
   "source": "svc = pickle.load(open('svc.pkl', 'rb'))",
   "id": "9cb310559beac501",
   "outputs": [],
   "execution_count": 20
  },
  {
   "metadata": {
    "ExecuteTime": {
     "end_time": "2025-04-08T09:02:52.506648Z",
     "start_time": "2025-04-08T09:02:52.491411Z"
    }
   },
   "cell_type": "code",
   "source": "x_test",
   "id": "8c2a5680bf8b63b1",
   "outputs": [
    {
     "data": {
      "text/plain": [
       "      itching  skin_rash  nodal_skin_eruptions  continuous_sneezing  \\\n",
       "373         0          1                     0                    0   \n",
       "4916        0          1                     0                    0   \n",
       "1550        0          0                     0                    0   \n",
       "3081        0          0                     0                    0   \n",
       "3857        1          0                     0                    0   \n",
       "...       ...        ...                   ...                  ...   \n",
       "3649        1          1                     1                    0   \n",
       "1694        0          0                     0                    0   \n",
       "4767        0          0                     0                    0   \n",
       "3721        0          0                     0                    0   \n",
       "2222        0          1                     0                    0   \n",
       "\n",
       "      shivering  chills  joint_pain  stomach_pain  acidity  ulcers_on_tongue  \\\n",
       "373           0       0           0             0        0                 0   \n",
       "4916          0       0           0             0        0                 0   \n",
       "1550          0       0           0             0        0                 0   \n",
       "3081          0       0           0             0        0                 0   \n",
       "3857          0       0           0             0        0                 0   \n",
       "...         ...     ...         ...           ...      ...               ...   \n",
       "3649          0       0           0             0        0                 0   \n",
       "1694          0       0           0             0        0                 0   \n",
       "4767          0       0           0             0        1                 0   \n",
       "3721          0       0           0             0        0                 0   \n",
       "2222          0       1           1             0        0                 0   \n",
       "\n",
       "      ...  pus_filled_pimples  blackheads  scurring  skin_peeling  \\\n",
       "373   ...                   0           1         1             0   \n",
       "4916  ...                   1           1         1             0   \n",
       "1550  ...                   0           0         0             0   \n",
       "3081  ...                   0           0         0             0   \n",
       "3857  ...                   0           0         0             0   \n",
       "...   ...                 ...         ...       ...           ...   \n",
       "3649  ...                   0           0         0             0   \n",
       "1694  ...                   0           0         0             0   \n",
       "4767  ...                   0           0         0             0   \n",
       "3721  ...                   0           0         0             0   \n",
       "2222  ...                   0           0         0             0   \n",
       "\n",
       "      silver_like_dusting  small_dents_in_nails  inflammatory_nails  blister  \\\n",
       "373                     0                     0                   0        0   \n",
       "4916                    0                     0                   0        0   \n",
       "1550                    0                     0                   0        0   \n",
       "3081                    0                     0                   0        0   \n",
       "3857                    0                     0                   0        0   \n",
       "...                   ...                   ...                 ...      ...   \n",
       "3649                    0                     0                   0        0   \n",
       "1694                    0                     0                   0        0   \n",
       "4767                    0                     0                   0        0   \n",
       "3721                    0                     0                   0        0   \n",
       "2222                    0                     0                   0        0   \n",
       "\n",
       "      red_sore_around_nose  yellow_crust_ooze  \n",
       "373                      0                  0  \n",
       "4916                     0                  0  \n",
       "1550                     0                  0  \n",
       "3081                     0                  0  \n",
       "3857                     0                  0  \n",
       "...                    ...                ...  \n",
       "3649                     0                  0  \n",
       "1694                     0                  0  \n",
       "4767                     0                  0  \n",
       "3721                     0                  0  \n",
       "2222                     0                  0  \n",
       "\n",
       "[1476 rows x 132 columns]"
      ],
      "text/html": [
       "<div>\n",
       "<style scoped>\n",
       "    .dataframe tbody tr th:only-of-type {\n",
       "        vertical-align: middle;\n",
       "    }\n",
       "\n",
       "    .dataframe tbody tr th {\n",
       "        vertical-align: top;\n",
       "    }\n",
       "\n",
       "    .dataframe thead th {\n",
       "        text-align: right;\n",
       "    }\n",
       "</style>\n",
       "<table border=\"1\" class=\"dataframe\">\n",
       "  <thead>\n",
       "    <tr style=\"text-align: right;\">\n",
       "      <th></th>\n",
       "      <th>itching</th>\n",
       "      <th>skin_rash</th>\n",
       "      <th>nodal_skin_eruptions</th>\n",
       "      <th>continuous_sneezing</th>\n",
       "      <th>shivering</th>\n",
       "      <th>chills</th>\n",
       "      <th>joint_pain</th>\n",
       "      <th>stomach_pain</th>\n",
       "      <th>acidity</th>\n",
       "      <th>ulcers_on_tongue</th>\n",
       "      <th>...</th>\n",
       "      <th>pus_filled_pimples</th>\n",
       "      <th>blackheads</th>\n",
       "      <th>scurring</th>\n",
       "      <th>skin_peeling</th>\n",
       "      <th>silver_like_dusting</th>\n",
       "      <th>small_dents_in_nails</th>\n",
       "      <th>inflammatory_nails</th>\n",
       "      <th>blister</th>\n",
       "      <th>red_sore_around_nose</th>\n",
       "      <th>yellow_crust_ooze</th>\n",
       "    </tr>\n",
       "  </thead>\n",
       "  <tbody>\n",
       "    <tr>\n",
       "      <th>373</th>\n",
       "      <td>0</td>\n",
       "      <td>1</td>\n",
       "      <td>0</td>\n",
       "      <td>0</td>\n",
       "      <td>0</td>\n",
       "      <td>0</td>\n",
       "      <td>0</td>\n",
       "      <td>0</td>\n",
       "      <td>0</td>\n",
       "      <td>0</td>\n",
       "      <td>...</td>\n",
       "      <td>0</td>\n",
       "      <td>1</td>\n",
       "      <td>1</td>\n",
       "      <td>0</td>\n",
       "      <td>0</td>\n",
       "      <td>0</td>\n",
       "      <td>0</td>\n",
       "      <td>0</td>\n",
       "      <td>0</td>\n",
       "      <td>0</td>\n",
       "    </tr>\n",
       "    <tr>\n",
       "      <th>4916</th>\n",
       "      <td>0</td>\n",
       "      <td>1</td>\n",
       "      <td>0</td>\n",
       "      <td>0</td>\n",
       "      <td>0</td>\n",
       "      <td>0</td>\n",
       "      <td>0</td>\n",
       "      <td>0</td>\n",
       "      <td>0</td>\n",
       "      <td>0</td>\n",
       "      <td>...</td>\n",
       "      <td>1</td>\n",
       "      <td>1</td>\n",
       "      <td>1</td>\n",
       "      <td>0</td>\n",
       "      <td>0</td>\n",
       "      <td>0</td>\n",
       "      <td>0</td>\n",
       "      <td>0</td>\n",
       "      <td>0</td>\n",
       "      <td>0</td>\n",
       "    </tr>\n",
       "    <tr>\n",
       "      <th>1550</th>\n",
       "      <td>0</td>\n",
       "      <td>0</td>\n",
       "      <td>0</td>\n",
       "      <td>0</td>\n",
       "      <td>0</td>\n",
       "      <td>0</td>\n",
       "      <td>0</td>\n",
       "      <td>0</td>\n",
       "      <td>0</td>\n",
       "      <td>0</td>\n",
       "      <td>...</td>\n",
       "      <td>0</td>\n",
       "      <td>0</td>\n",
       "      <td>0</td>\n",
       "      <td>0</td>\n",
       "      <td>0</td>\n",
       "      <td>0</td>\n",
       "      <td>0</td>\n",
       "      <td>0</td>\n",
       "      <td>0</td>\n",
       "      <td>0</td>\n",
       "    </tr>\n",
       "    <tr>\n",
       "      <th>3081</th>\n",
       "      <td>0</td>\n",
       "      <td>0</td>\n",
       "      <td>0</td>\n",
       "      <td>0</td>\n",
       "      <td>0</td>\n",
       "      <td>0</td>\n",
       "      <td>0</td>\n",
       "      <td>0</td>\n",
       "      <td>0</td>\n",
       "      <td>0</td>\n",
       "      <td>...</td>\n",
       "      <td>0</td>\n",
       "      <td>0</td>\n",
       "      <td>0</td>\n",
       "      <td>0</td>\n",
       "      <td>0</td>\n",
       "      <td>0</td>\n",
       "      <td>0</td>\n",
       "      <td>0</td>\n",
       "      <td>0</td>\n",
       "      <td>0</td>\n",
       "    </tr>\n",
       "    <tr>\n",
       "      <th>3857</th>\n",
       "      <td>1</td>\n",
       "      <td>0</td>\n",
       "      <td>0</td>\n",
       "      <td>0</td>\n",
       "      <td>0</td>\n",
       "      <td>0</td>\n",
       "      <td>0</td>\n",
       "      <td>0</td>\n",
       "      <td>0</td>\n",
       "      <td>0</td>\n",
       "      <td>...</td>\n",
       "      <td>0</td>\n",
       "      <td>0</td>\n",
       "      <td>0</td>\n",
       "      <td>0</td>\n",
       "      <td>0</td>\n",
       "      <td>0</td>\n",
       "      <td>0</td>\n",
       "      <td>0</td>\n",
       "      <td>0</td>\n",
       "      <td>0</td>\n",
       "    </tr>\n",
       "    <tr>\n",
       "      <th>...</th>\n",
       "      <td>...</td>\n",
       "      <td>...</td>\n",
       "      <td>...</td>\n",
       "      <td>...</td>\n",
       "      <td>...</td>\n",
       "      <td>...</td>\n",
       "      <td>...</td>\n",
       "      <td>...</td>\n",
       "      <td>...</td>\n",
       "      <td>...</td>\n",
       "      <td>...</td>\n",
       "      <td>...</td>\n",
       "      <td>...</td>\n",
       "      <td>...</td>\n",
       "      <td>...</td>\n",
       "      <td>...</td>\n",
       "      <td>...</td>\n",
       "      <td>...</td>\n",
       "      <td>...</td>\n",
       "      <td>...</td>\n",
       "      <td>...</td>\n",
       "    </tr>\n",
       "    <tr>\n",
       "      <th>3649</th>\n",
       "      <td>1</td>\n",
       "      <td>1</td>\n",
       "      <td>1</td>\n",
       "      <td>0</td>\n",
       "      <td>0</td>\n",
       "      <td>0</td>\n",
       "      <td>0</td>\n",
       "      <td>0</td>\n",
       "      <td>0</td>\n",
       "      <td>0</td>\n",
       "      <td>...</td>\n",
       "      <td>0</td>\n",
       "      <td>0</td>\n",
       "      <td>0</td>\n",
       "      <td>0</td>\n",
       "      <td>0</td>\n",
       "      <td>0</td>\n",
       "      <td>0</td>\n",
       "      <td>0</td>\n",
       "      <td>0</td>\n",
       "      <td>0</td>\n",
       "    </tr>\n",
       "    <tr>\n",
       "      <th>1694</th>\n",
       "      <td>0</td>\n",
       "      <td>0</td>\n",
       "      <td>0</td>\n",
       "      <td>0</td>\n",
       "      <td>0</td>\n",
       "      <td>0</td>\n",
       "      <td>0</td>\n",
       "      <td>0</td>\n",
       "      <td>0</td>\n",
       "      <td>0</td>\n",
       "      <td>...</td>\n",
       "      <td>0</td>\n",
       "      <td>0</td>\n",
       "      <td>0</td>\n",
       "      <td>0</td>\n",
       "      <td>0</td>\n",
       "      <td>0</td>\n",
       "      <td>0</td>\n",
       "      <td>0</td>\n",
       "      <td>0</td>\n",
       "      <td>0</td>\n",
       "    </tr>\n",
       "    <tr>\n",
       "      <th>4767</th>\n",
       "      <td>0</td>\n",
       "      <td>0</td>\n",
       "      <td>0</td>\n",
       "      <td>0</td>\n",
       "      <td>0</td>\n",
       "      <td>0</td>\n",
       "      <td>0</td>\n",
       "      <td>0</td>\n",
       "      <td>1</td>\n",
       "      <td>0</td>\n",
       "      <td>...</td>\n",
       "      <td>0</td>\n",
       "      <td>0</td>\n",
       "      <td>0</td>\n",
       "      <td>0</td>\n",
       "      <td>0</td>\n",
       "      <td>0</td>\n",
       "      <td>0</td>\n",
       "      <td>0</td>\n",
       "      <td>0</td>\n",
       "      <td>0</td>\n",
       "    </tr>\n",
       "    <tr>\n",
       "      <th>3721</th>\n",
       "      <td>0</td>\n",
       "      <td>0</td>\n",
       "      <td>0</td>\n",
       "      <td>0</td>\n",
       "      <td>0</td>\n",
       "      <td>0</td>\n",
       "      <td>0</td>\n",
       "      <td>0</td>\n",
       "      <td>0</td>\n",
       "      <td>0</td>\n",
       "      <td>...</td>\n",
       "      <td>0</td>\n",
       "      <td>0</td>\n",
       "      <td>0</td>\n",
       "      <td>0</td>\n",
       "      <td>0</td>\n",
       "      <td>0</td>\n",
       "      <td>0</td>\n",
       "      <td>0</td>\n",
       "      <td>0</td>\n",
       "      <td>0</td>\n",
       "    </tr>\n",
       "    <tr>\n",
       "      <th>2222</th>\n",
       "      <td>0</td>\n",
       "      <td>1</td>\n",
       "      <td>0</td>\n",
       "      <td>0</td>\n",
       "      <td>0</td>\n",
       "      <td>1</td>\n",
       "      <td>1</td>\n",
       "      <td>0</td>\n",
       "      <td>0</td>\n",
       "      <td>0</td>\n",
       "      <td>...</td>\n",
       "      <td>0</td>\n",
       "      <td>0</td>\n",
       "      <td>0</td>\n",
       "      <td>0</td>\n",
       "      <td>0</td>\n",
       "      <td>0</td>\n",
       "      <td>0</td>\n",
       "      <td>0</td>\n",
       "      <td>0</td>\n",
       "      <td>0</td>\n",
       "    </tr>\n",
       "  </tbody>\n",
       "</table>\n",
       "<p>1476 rows × 132 columns</p>\n",
       "</div>"
      ]
     },
     "execution_count": 21,
     "metadata": {},
     "output_type": "execute_result"
    }
   ],
   "execution_count": 21
  },
  {
   "metadata": {
    "ExecuteTime": {
     "end_time": "2025-04-08T09:02:52.619772Z",
     "start_time": "2025-04-08T09:02:52.597086Z"
    }
   },
   "cell_type": "code",
   "source": "pred = svc.predict(x_test.iloc[0].values.reshape(1, -1))",
   "id": "8789cf183916a81d",
   "outputs": [
    {
     "name": "stderr",
     "output_type": "stream",
     "text": [
      "C:\\Users\\miles\\AppData\\Local\\Packages\\PythonSoftwareFoundation.Python.3.11_qbz5n2kfra8p0\\LocalCache\\local-packages\\Python311\\site-packages\\sklearn\\base.py:493: UserWarning: X does not have valid feature names, but SVC was fitted with feature names\n",
      "  warnings.warn(\n"
     ]
    }
   ],
   "execution_count": 22
  },
  {
   "metadata": {
    "ExecuteTime": {
     "end_time": "2025-04-08T09:02:52.719443Z",
     "start_time": "2025-04-08T09:02:52.712922Z"
    }
   },
   "cell_type": "code",
   "source": "print(pred)",
   "id": "664425a3dbf9e980",
   "outputs": [
    {
     "name": "stdout",
     "output_type": "stream",
     "text": [
      "[2]\n"
     ]
    }
   ],
   "execution_count": 23
  },
  {
   "metadata": {
    "ExecuteTime": {
     "end_time": "2025-04-08T09:02:53.148193Z",
     "start_time": "2025-04-08T09:02:53.141290Z"
    }
   },
   "cell_type": "code",
   "source": "y_test[0]",
   "id": "d3fb8986552b6030",
   "outputs": [
    {
     "data": {
      "text/plain": [
       "np.int64(2)"
      ]
     },
     "execution_count": 24,
     "metadata": {},
     "output_type": "execute_result"
    }
   ],
   "execution_count": 24
  },
  {
   "metadata": {
    "ExecuteTime": {
     "end_time": "2025-04-08T09:02:53.312417Z",
     "start_time": "2025-04-08T09:02:53.302809Z"
    }
   },
   "cell_type": "code",
   "source": "print(svc.predict(x_test.iloc[10].values.reshape(1, -1)), y_test[10])",
   "id": "15c1be1feffcd05a",
   "outputs": [
    {
     "name": "stdout",
     "output_type": "stream",
     "text": [
      "[38] 38\n"
     ]
    },
    {
     "name": "stderr",
     "output_type": "stream",
     "text": [
      "C:\\Users\\miles\\AppData\\Local\\Packages\\PythonSoftwareFoundation.Python.3.11_qbz5n2kfra8p0\\LocalCache\\local-packages\\Python311\\site-packages\\sklearn\\base.py:493: UserWarning: X does not have valid feature names, but SVC was fitted with feature names\n",
      "  warnings.warn(\n"
     ]
    }
   ],
   "execution_count": 25
  },
  {
   "metadata": {
    "ExecuteTime": {
     "end_time": "2025-04-08T09:02:53.390916Z",
     "start_time": "2025-04-08T09:02:53.369138Z"
    }
   },
   "cell_type": "code",
   "source": "symptoms_df = pd.read_csv('symptoms.csv')",
   "id": "6cd5d06cc5ddf4dc",
   "outputs": [],
   "execution_count": 26
  },
  {
   "metadata": {
    "ExecuteTime": {
     "end_time": "2025-04-08T09:02:53.514919Z",
     "start_time": "2025-04-08T09:02:53.505086Z"
    }
   },
   "cell_type": "code",
   "source": "precautions_df = pd.read_csv('precautions.csv')",
   "id": "fd66807bb4dc23ce",
   "outputs": [],
   "execution_count": 27
  },
  {
   "metadata": {
    "ExecuteTime": {
     "end_time": "2025-04-08T09:02:53.608819Z",
     "start_time": "2025-04-08T09:02:53.591252Z"
    }
   },
   "cell_type": "code",
   "source": "symptoms_df.head()",
   "id": "912005c73293e57f",
   "outputs": [
    {
     "data": {
      "text/plain": [
       "   Unnamed: 0           Disease   Symptom_1              Symptom_2  \\\n",
       "0           0  Fungal infection     itching              skin_rash   \n",
       "1           1  Fungal infection   skin_rash   nodal_skin_eruptions   \n",
       "2           2  Fungal infection     itching   nodal_skin_eruptions   \n",
       "3           3  Fungal infection     itching              skin_rash   \n",
       "4           4  Fungal infection     itching              skin_rash   \n",
       "\n",
       "               Symptom_3             Symptom_4  \n",
       "0   nodal_skin_eruptions   dischromic _patches  \n",
       "1    dischromic _patches                   NaN  \n",
       "2    dischromic _patches                   NaN  \n",
       "3    dischromic _patches                   NaN  \n",
       "4   nodal_skin_eruptions                   NaN  "
      ],
      "text/html": [
       "<div>\n",
       "<style scoped>\n",
       "    .dataframe tbody tr th:only-of-type {\n",
       "        vertical-align: middle;\n",
       "    }\n",
       "\n",
       "    .dataframe tbody tr th {\n",
       "        vertical-align: top;\n",
       "    }\n",
       "\n",
       "    .dataframe thead th {\n",
       "        text-align: right;\n",
       "    }\n",
       "</style>\n",
       "<table border=\"1\" class=\"dataframe\">\n",
       "  <thead>\n",
       "    <tr style=\"text-align: right;\">\n",
       "      <th></th>\n",
       "      <th>Unnamed: 0</th>\n",
       "      <th>Disease</th>\n",
       "      <th>Symptom_1</th>\n",
       "      <th>Symptom_2</th>\n",
       "      <th>Symptom_3</th>\n",
       "      <th>Symptom_4</th>\n",
       "    </tr>\n",
       "  </thead>\n",
       "  <tbody>\n",
       "    <tr>\n",
       "      <th>0</th>\n",
       "      <td>0</td>\n",
       "      <td>Fungal infection</td>\n",
       "      <td>itching</td>\n",
       "      <td>skin_rash</td>\n",
       "      <td>nodal_skin_eruptions</td>\n",
       "      <td>dischromic _patches</td>\n",
       "    </tr>\n",
       "    <tr>\n",
       "      <th>1</th>\n",
       "      <td>1</td>\n",
       "      <td>Fungal infection</td>\n",
       "      <td>skin_rash</td>\n",
       "      <td>nodal_skin_eruptions</td>\n",
       "      <td>dischromic _patches</td>\n",
       "      <td>NaN</td>\n",
       "    </tr>\n",
       "    <tr>\n",
       "      <th>2</th>\n",
       "      <td>2</td>\n",
       "      <td>Fungal infection</td>\n",
       "      <td>itching</td>\n",
       "      <td>nodal_skin_eruptions</td>\n",
       "      <td>dischromic _patches</td>\n",
       "      <td>NaN</td>\n",
       "    </tr>\n",
       "    <tr>\n",
       "      <th>3</th>\n",
       "      <td>3</td>\n",
       "      <td>Fungal infection</td>\n",
       "      <td>itching</td>\n",
       "      <td>skin_rash</td>\n",
       "      <td>dischromic _patches</td>\n",
       "      <td>NaN</td>\n",
       "    </tr>\n",
       "    <tr>\n",
       "      <th>4</th>\n",
       "      <td>4</td>\n",
       "      <td>Fungal infection</td>\n",
       "      <td>itching</td>\n",
       "      <td>skin_rash</td>\n",
       "      <td>nodal_skin_eruptions</td>\n",
       "      <td>NaN</td>\n",
       "    </tr>\n",
       "  </tbody>\n",
       "</table>\n",
       "</div>"
      ]
     },
     "execution_count": 28,
     "metadata": {},
     "output_type": "execute_result"
    }
   ],
   "execution_count": 28
  },
  {
   "metadata": {
    "ExecuteTime": {
     "end_time": "2025-04-08T09:02:53.753219Z",
     "start_time": "2025-04-08T09:02:53.741186Z"
    }
   },
   "cell_type": "code",
   "source": "precautions_df.head()",
   "id": "3519e990b49dc285",
   "outputs": [
    {
     "data": {
      "text/plain": [
       "   Unnamed: 0         Disease                      Precaution_1  \\\n",
       "0           0   Drug Reaction                   stop irritation   \n",
       "1           1         Malaria          Consult nearest hospital   \n",
       "2           2         Allergy                    apply calamine   \n",
       "3           3  Hypothyroidism                     reduce stress   \n",
       "4           4       Psoriasis  wash hands with warm soapy water   \n",
       "\n",
       "                   Precaution_2        Precaution_3  \\\n",
       "0      consult nearest hospital    stop taking drug   \n",
       "1               avoid oily food  avoid non veg food   \n",
       "2       cover area with bandage                 NaN   \n",
       "3                      exercise         eat healthy   \n",
       "4  stop bleeding using pressure      consult doctor   \n",
       "\n",
       "                  Precaution_4  \n",
       "0                    follow up  \n",
       "1           keep mosquitos out  \n",
       "2  use ice to compress itching  \n",
       "3             get proper sleep  \n",
       "4                   salt baths  "
      ],
      "text/html": [
       "<div>\n",
       "<style scoped>\n",
       "    .dataframe tbody tr th:only-of-type {\n",
       "        vertical-align: middle;\n",
       "    }\n",
       "\n",
       "    .dataframe tbody tr th {\n",
       "        vertical-align: top;\n",
       "    }\n",
       "\n",
       "    .dataframe thead th {\n",
       "        text-align: right;\n",
       "    }\n",
       "</style>\n",
       "<table border=\"1\" class=\"dataframe\">\n",
       "  <thead>\n",
       "    <tr style=\"text-align: right;\">\n",
       "      <th></th>\n",
       "      <th>Unnamed: 0</th>\n",
       "      <th>Disease</th>\n",
       "      <th>Precaution_1</th>\n",
       "      <th>Precaution_2</th>\n",
       "      <th>Precaution_3</th>\n",
       "      <th>Precaution_4</th>\n",
       "    </tr>\n",
       "  </thead>\n",
       "  <tbody>\n",
       "    <tr>\n",
       "      <th>0</th>\n",
       "      <td>0</td>\n",
       "      <td>Drug Reaction</td>\n",
       "      <td>stop irritation</td>\n",
       "      <td>consult nearest hospital</td>\n",
       "      <td>stop taking drug</td>\n",
       "      <td>follow up</td>\n",
       "    </tr>\n",
       "    <tr>\n",
       "      <th>1</th>\n",
       "      <td>1</td>\n",
       "      <td>Malaria</td>\n",
       "      <td>Consult nearest hospital</td>\n",
       "      <td>avoid oily food</td>\n",
       "      <td>avoid non veg food</td>\n",
       "      <td>keep mosquitos out</td>\n",
       "    </tr>\n",
       "    <tr>\n",
       "      <th>2</th>\n",
       "      <td>2</td>\n",
       "      <td>Allergy</td>\n",
       "      <td>apply calamine</td>\n",
       "      <td>cover area with bandage</td>\n",
       "      <td>NaN</td>\n",
       "      <td>use ice to compress itching</td>\n",
       "    </tr>\n",
       "    <tr>\n",
       "      <th>3</th>\n",
       "      <td>3</td>\n",
       "      <td>Hypothyroidism</td>\n",
       "      <td>reduce stress</td>\n",
       "      <td>exercise</td>\n",
       "      <td>eat healthy</td>\n",
       "      <td>get proper sleep</td>\n",
       "    </tr>\n",
       "    <tr>\n",
       "      <th>4</th>\n",
       "      <td>4</td>\n",
       "      <td>Psoriasis</td>\n",
       "      <td>wash hands with warm soapy water</td>\n",
       "      <td>stop bleeding using pressure</td>\n",
       "      <td>consult doctor</td>\n",
       "      <td>salt baths</td>\n",
       "    </tr>\n",
       "  </tbody>\n",
       "</table>\n",
       "</div>"
      ]
     },
     "execution_count": 29,
     "metadata": {},
     "output_type": "execute_result"
    }
   ],
   "execution_count": 29
  },
  {
   "metadata": {
    "ExecuteTime": {
     "end_time": "2025-04-08T09:02:53.928605Z",
     "start_time": "2025-04-08T09:02:53.921118Z"
    }
   },
   "cell_type": "code",
   "source": "workouts_df = pd.read_csv('workouts.csv')",
   "id": "8218ddf14ee291c3",
   "outputs": [],
   "execution_count": 30
  },
  {
   "metadata": {
    "ExecuteTime": {
     "end_time": "2025-04-08T09:02:54.175295Z",
     "start_time": "2025-04-08T09:02:54.162125Z"
    }
   },
   "cell_type": "code",
   "source": "description_df = pd.read_csv('description.csv')",
   "id": "53f46ef9b5078cb0",
   "outputs": [],
   "execution_count": 31
  },
  {
   "metadata": {
    "ExecuteTime": {
     "end_time": "2025-04-08T09:02:54.314801Z",
     "start_time": "2025-04-08T09:02:54.307036Z"
    }
   },
   "cell_type": "code",
   "source": "medications_df = pd.read_csv('medications.csv')",
   "id": "61416590f8ad580b",
   "outputs": [],
   "execution_count": 32
  },
  {
   "metadata": {
    "ExecuteTime": {
     "end_time": "2025-04-08T09:02:54.453371Z",
     "start_time": "2025-04-08T09:02:54.442513Z"
    }
   },
   "cell_type": "code",
   "source": "diets_df = pd.read_csv('diets.csv')",
   "id": "58d456721968d516",
   "outputs": [],
   "execution_count": 33
  },
  {
   "metadata": {
    "ExecuteTime": {
     "end_time": "2025-04-08T09:02:54.538957Z",
     "start_time": "2025-04-08T09:02:54.529264Z"
    }
   },
   "cell_type": "code",
   "source": [
    "with open('label_encoder.pkl', 'wb') as f:\n",
    "    pickle.dump(label_encoder, f)\n"
   ],
   "id": "71f41bd7e3a4141d",
   "outputs": [],
   "execution_count": 34
  },
  {
   "metadata": {
    "ExecuteTime": {
     "end_time": "2025-04-08T09:02:54.673785Z",
     "start_time": "2025-04-08T09:02:54.662878Z"
    }
   },
   "cell_type": "code",
   "source": "label_encoder.inverse_transform([2])[0]",
   "id": "4e1063960a4844b8",
   "outputs": [
    {
     "data": {
      "text/plain": [
       "'Acne'"
      ]
     },
     "execution_count": 35,
     "metadata": {},
     "output_type": "execute_result"
    }
   ],
   "execution_count": 35
  },
  {
   "metadata": {
    "ExecuteTime": {
     "end_time": "2025-04-08T09:02:54.712053Z",
     "start_time": "2025-04-08T09:02:54.703874Z"
    }
   },
   "cell_type": "code",
   "source": "label_encoder.transform(['Acne'])[0]",
   "id": "ee01df1891adcc7b",
   "outputs": [
    {
     "data": {
      "text/plain": [
       "np.int64(2)"
      ]
     },
     "execution_count": 36,
     "metadata": {},
     "output_type": "execute_result"
    }
   ],
   "execution_count": 36
  },
  {
   "metadata": {
    "ExecuteTime": {
     "end_time": "2025-04-08T09:02:54.816772Z",
     "start_time": "2025-04-08T09:02:54.809130Z"
    }
   },
   "cell_type": "code",
   "source": [
    "import numpy as np\n",
    "\n",
    "def get_predicted_value(patient_symptoms):\n",
    "    output = []\n",
    "    for item in df.columns[:-1]:\n",
    "        if item in patient_symptoms:\n",
    "            output.append(1)\n",
    "        else:\n",
    "            output.append(0)\n",
    "    return label_encoder.inverse_transform([svc.predict([output])])[0]\n"
   ],
   "id": "ddc3e9e8c9729c76",
   "outputs": [],
   "execution_count": 37
  },
  {
   "metadata": {
    "ExecuteTime": {
     "end_time": "2025-04-08T09:02:54.962797Z",
     "start_time": "2025-04-08T09:02:54.956650Z"
    }
   },
   "cell_type": "code",
   "source": "user_symptoms = ['joint_pain', 'chills', 'acidity']",
   "id": "7f01bae6a020ae37",
   "outputs": [],
   "execution_count": 38
  },
  {
   "metadata": {
    "ExecuteTime": {
     "end_time": "2025-04-08T09:02:55.087161Z",
     "start_time": "2025-04-08T09:02:55.053200Z"
    }
   },
   "cell_type": "code",
   "source": "predicted_disease = get_predicted_value(user_symptoms)",
   "id": "4748031dd5fbfcc5",
   "outputs": [
    {
     "name": "stderr",
     "output_type": "stream",
     "text": [
      "C:\\Users\\miles\\AppData\\Local\\Packages\\PythonSoftwareFoundation.Python.3.11_qbz5n2kfra8p0\\LocalCache\\local-packages\\Python311\\site-packages\\sklearn\\base.py:493: UserWarning: X does not have valid feature names, but SVC was fitted with feature names\n",
      "  warnings.warn(\n",
      "C:\\Users\\miles\\AppData\\Local\\Packages\\PythonSoftwareFoundation.Python.3.11_qbz5n2kfra8p0\\LocalCache\\local-packages\\Python311\\site-packages\\sklearn\\preprocessing\\_label.py:153: DataConversionWarning: A column-vector y was passed when a 1d array was expected. Please change the shape of y to (n_samples, ), for example using ravel().\n",
      "  y = column_or_1d(y, warn=True)\n"
     ]
    }
   ],
   "execution_count": 39
  },
  {
   "metadata": {
    "ExecuteTime": {
     "end_time": "2025-04-08T09:02:55.167185Z",
     "start_time": "2025-04-08T09:02:55.160740Z"
    }
   },
   "cell_type": "code",
   "source": "predicted_disease",
   "id": "d764d0d3eef7e14e",
   "outputs": [
    {
     "data": {
      "text/plain": [
       "'Allergy'"
      ]
     },
     "execution_count": 40,
     "metadata": {},
     "output_type": "execute_result"
    }
   ],
   "execution_count": 40
  },
  {
   "metadata": {
    "ExecuteTime": {
     "end_time": "2025-04-08T09:02:55.260403Z",
     "start_time": "2025-04-08T09:02:55.254264Z"
    }
   },
   "cell_type": "code",
   "source": [
    "# find description\n",
    "desc = description_df[description_df['Disease'] == predicted_disease]['Description']"
   ],
   "id": "d75511f762e05086",
   "outputs": [],
   "execution_count": 41
  },
  {
   "metadata": {
    "ExecuteTime": {
     "end_time": "2025-04-08T09:02:55.337417Z",
     "start_time": "2025-04-08T09:02:55.332955Z"
    }
   },
   "cell_type": "code",
   "source": "desc = \" \".join(desc.values)",
   "id": "47dd2e91bde24170",
   "outputs": [],
   "execution_count": 42
  },
  {
   "metadata": {
    "ExecuteTime": {
     "end_time": "2025-04-08T09:02:55.364967Z",
     "start_time": "2025-04-08T09:02:55.357009Z"
    }
   },
   "cell_type": "code",
   "source": [
    "# find precautions\n",
    "pre = precautions_df[precautions_df['Disease'] == predicted_disease][['Precaution_1', 'Precaution_2', 'Precaution_3', 'Precaution_4']]"
   ],
   "id": "816837c086b4f199",
   "outputs": [],
   "execution_count": 43
  },
  {
   "metadata": {
    "ExecuteTime": {
     "end_time": "2025-04-08T09:02:55.420394Z",
     "start_time": "2025-04-08T09:02:55.413218Z"
    }
   },
   "cell_type": "code",
   "source": "pre = [col for col in pre.values]",
   "id": "2eb17d130bb9749",
   "outputs": [],
   "execution_count": 44
  },
  {
   "metadata": {
    "ExecuteTime": {
     "end_time": "2025-04-08T09:02:55.525220Z",
     "start_time": "2025-04-08T09:02:55.518879Z"
    }
   },
   "cell_type": "code",
   "source": "pre",
   "id": "bfa4e2e44b2143a",
   "outputs": [
    {
     "data": {
      "text/plain": [
       "[array(['apply calamine', 'cover area with bandage', nan,\n",
       "        'use ice to compress itching'], dtype=object)]"
      ]
     },
     "execution_count": 45,
     "metadata": {},
     "output_type": "execute_result"
    }
   ],
   "execution_count": 45
  },
  {
   "metadata": {
    "ExecuteTime": {
     "end_time": "2025-04-08T09:02:55.561953Z",
     "start_time": "2025-04-08T09:02:55.556336Z"
    }
   },
   "cell_type": "code",
   "source": [
    "import ast\n",
    "import warnings\n",
    "warnings.filterwarnings('ignore')"
   ],
   "id": "617f58057658b922",
   "outputs": [],
   "execution_count": 46
  },
  {
   "metadata": {
    "ExecuteTime": {
     "end_time": "2025-04-08T09:02:55.672287Z",
     "start_time": "2025-04-08T09:02:55.660236Z"
    }
   },
   "cell_type": "code",
   "source": [
    "def helper(disease) :\n",
    "    description = \" \".join(description_df[description_df['Disease'] == disease]['Description'])\n",
    "    precaution = precautions_df[precautions_df['Disease'] == disease][['Precaution_1', 'Precaution_2', 'Precaution_3', 'Precaution_4']].values.tolist()[0]\n",
    "    medication = medications_df[medications_df['Disease'] == disease]['Medication'].values[0]\n",
    "    diet = diets_df[diets_df['Disease'] == disease]['Diet'].values[0]\n",
    "    workout = workouts_df[workouts_df['disease'] == disease]['workout'].values.tolist()\n",
    "    print('-----------------------------Predicted Disease---------------------------')\n",
    "    print()\n",
    "    print(disease)\n",
    "    print()\n",
    "    print('-----------------------------Description---------------------------------')\n",
    "    print()\n",
    "    print(description)\n",
    "    print()\n",
    "    print('-----------------------------Precaution----------------------------------')\n",
    "    print()\n",
    "    i=1\n",
    "    for p_i in precaution:\n",
    "        if p_i is np.nan:\n",
    "            continue\n",
    "        print(f\"{i}. {p_i}\")\n",
    "        i += 1\n",
    "    print()\n",
    "    print('-----------------------------Medication----------------------------------')\n",
    "    print()\n",
    "    i = 1\n",
    "    for m_i in ast.literal_eval(medication):\n",
    "        if m_i is np.nan:\n",
    "            continue\n",
    "        print(f\"{i}. {m_i}\")\n",
    "        i += 1\n",
    "    print()\n",
    "    print('-----------------------------Diet----------------------------------------')\n",
    "    print()\n",
    "    i = 1\n",
    "    for d_i in ast.literal_eval(diet):\n",
    "        if d_i is np.nan:\n",
    "            continue\n",
    "        print(f\"{i}. {d_i}\")\n",
    "        i += 1\n",
    "    print()\n",
    "    print('-----------------------------Workout----------------------------------------')\n",
    "    print()\n",
    "    i = 1\n",
    "    for w_i in workout:\n",
    "        if w_i is np.nan:\n",
    "            continue\n",
    "        print(f\"{i}. {w_i}\")\n",
    "        i += 1\n",
    "\n",
    "\n"
   ],
   "id": "fd4ba6f4148558ff",
   "outputs": [],
   "execution_count": 47
  },
  {
   "metadata": {
    "ExecuteTime": {
     "end_time": "2025-04-08T09:02:55.692352Z",
     "start_time": "2025-04-08T09:02:55.679732Z"
    }
   },
   "cell_type": "code",
   "source": "helper(get_predicted_value(['itching', 'skin_rash']))",
   "id": "b78c01c571442323",
   "outputs": [
    {
     "name": "stdout",
     "output_type": "stream",
     "text": [
      "-----------------------------Predicted Disease---------------------------\n",
      "\n",
      "Fungal infection\n",
      "\n",
      "-----------------------------Description---------------------------------\n",
      "\n",
      "Fungal infection is a common skin condition caused by fungi.\n",
      "\n",
      "-----------------------------Precaution----------------------------------\n",
      "\n",
      "1. bath twice\n",
      "2. use detol or neem in bathing water\n",
      "3. keep infected area dry\n",
      "4. use clean cloths\n",
      "\n",
      "-----------------------------Medication----------------------------------\n",
      "\n",
      "1. Antifungal Cream\n",
      "2. Fluconazole\n",
      "3. Terbinafine\n",
      "4. Clotrimazole\n",
      "5. Ketoconazole\n",
      "\n",
      "-----------------------------Diet----------------------------------------\n",
      "\n",
      "1. Antifungal Diet\n",
      "2. Probiotics\n",
      "3. Garlic\n",
      "4. Coconut oil\n",
      "5. Turmeric\n",
      "\n",
      "-----------------------------Workout----------------------------------------\n",
      "\n",
      "1. Avoid sugary foods\n",
      "2. Consume probiotics\n",
      "3. Increase intake of garlic\n",
      "4. Include yogurt in diet\n",
      "5. Limit processed foods\n",
      "6. Stay hydrated\n",
      "7. Consume green tea\n",
      "8. Eat foods rich in zinc\n",
      "9. Include turmeric in diet\n",
      "10. Eat fruits and vegetables\n"
     ]
    }
   ],
   "execution_count": 48
  },
  {
   "metadata": {
    "ExecuteTime": {
     "end_time": "2025-04-08T10:04:17.833869Z",
     "start_time": "2025-04-08T10:04:17.828132Z"
    }
   },
   "cell_type": "code",
   "source": [
    "def bring_name_in_right_format(name) :\n",
    "    if '_' in name:\n",
    "        return \" \".join([a.strip() for a in name.split('_')])\n",
    "    return name\n"
   ],
   "id": "77ce9e3e0ff9f1a2",
   "outputs": [],
   "execution_count": 58
  },
  {
   "metadata": {
    "ExecuteTime": {
     "end_time": "2025-04-08T10:04:21.880035Z",
     "start_time": "2025-04-08T10:04:21.875741Z"
    }
   },
   "cell_type": "code",
   "source": [
    "correct_name = []\n",
    "for col in df.columns:\n",
    "    correct_name.append(bring_name_in_right_format(col))"
   ],
   "id": "7d6e68c80c5f131a",
   "outputs": [],
   "execution_count": 59
  },
  {
   "metadata": {
    "ExecuteTime": {
     "end_time": "2025-04-08T10:04:27.724978Z",
     "start_time": "2025-04-08T10:04:27.718300Z"
    }
   },
   "cell_type": "code",
   "source": "correct_name",
   "id": "359dc0d7bd410a02",
   "outputs": [
    {
     "data": {
      "text/plain": [
       "['itching',\n",
       " 'skin rash',\n",
       " 'nodal skin eruptions',\n",
       " 'continuous sneezing',\n",
       " 'shivering',\n",
       " 'chills',\n",
       " 'joint pain',\n",
       " 'stomach pain',\n",
       " 'acidity',\n",
       " 'ulcers on tongue',\n",
       " 'muscle wasting',\n",
       " 'vomiting',\n",
       " 'burning micturition',\n",
       " 'spotting urination',\n",
       " 'fatigue',\n",
       " 'weight gain',\n",
       " 'anxiety',\n",
       " 'cold hands and feets',\n",
       " 'mood swings',\n",
       " 'weight loss',\n",
       " 'restlessness',\n",
       " 'lethargy',\n",
       " 'patches in throat',\n",
       " 'irregular sugar level',\n",
       " 'cough',\n",
       " 'high fever',\n",
       " 'sunken eyes',\n",
       " 'breathlessness',\n",
       " 'sweating',\n",
       " 'dehydration',\n",
       " 'indigestion',\n",
       " 'headache',\n",
       " 'yellowish skin',\n",
       " 'dark urine',\n",
       " 'nausea',\n",
       " 'loss of appetite',\n",
       " 'pain behind the eyes',\n",
       " 'back pain',\n",
       " 'constipation',\n",
       " 'abdominal pain',\n",
       " 'diarrhoea',\n",
       " 'mild fever',\n",
       " 'yellow urine',\n",
       " 'yellowing of eyes',\n",
       " 'acute liver failure',\n",
       " 'fluid overload',\n",
       " 'swelling of stomach',\n",
       " 'swelled lymph nodes',\n",
       " 'malaise',\n",
       " 'blurred and distorted vision',\n",
       " 'phlegm',\n",
       " 'throat irritation',\n",
       " 'redness of eyes',\n",
       " 'sinus pressure',\n",
       " 'runny nose',\n",
       " 'congestion',\n",
       " 'chest pain',\n",
       " 'weakness in limbs',\n",
       " 'fast heart rate',\n",
       " 'pain during bowel movements',\n",
       " 'pain in anal region',\n",
       " 'bloody stool',\n",
       " 'irritation in anus',\n",
       " 'neck pain',\n",
       " 'dizziness',\n",
       " 'cramps',\n",
       " 'bruising',\n",
       " 'obesity',\n",
       " 'swollen legs',\n",
       " 'swollen blood vessels',\n",
       " 'puffy face and eyes',\n",
       " 'enlarged thyroid',\n",
       " 'brittle nails',\n",
       " 'swollen extremeties',\n",
       " 'excessive hunger',\n",
       " 'extra marital contacts',\n",
       " 'drying and tingling lips',\n",
       " 'slurred speech',\n",
       " 'knee pain',\n",
       " 'hip joint pain',\n",
       " 'muscle weakness',\n",
       " 'stiff neck',\n",
       " 'swelling joints',\n",
       " 'movement stiffness',\n",
       " 'spinning movements',\n",
       " 'loss of balance',\n",
       " 'unsteadiness',\n",
       " 'weakness of one body side',\n",
       " 'loss of smell',\n",
       " 'bladder discomfort',\n",
       " 'foul smell of urine',\n",
       " 'continuous feel of urine',\n",
       " 'passage of gases',\n",
       " 'internal itching',\n",
       " 'toxic look (typhos)',\n",
       " 'depression',\n",
       " 'irritability',\n",
       " 'muscle pain',\n",
       " 'altered sensorium',\n",
       " 'red spots over body',\n",
       " 'belly pain',\n",
       " 'abnormal menstruation',\n",
       " 'dischromic patches',\n",
       " 'watering from eyes',\n",
       " 'increased appetite',\n",
       " 'polyuria',\n",
       " 'family history',\n",
       " 'mucoid sputum',\n",
       " 'rusty sputum',\n",
       " 'lack of concentration',\n",
       " 'visual disturbances',\n",
       " 'receiving blood transfusion',\n",
       " 'receiving unsterile injections',\n",
       " 'coma',\n",
       " 'stomach bleeding',\n",
       " 'distention of abdomen',\n",
       " 'history of alcohol consumption',\n",
       " 'fluid overload.1',\n",
       " 'blood in sputum',\n",
       " 'prominent veins on calf',\n",
       " 'palpitations',\n",
       " 'painful walking',\n",
       " 'pus filled pimples',\n",
       " 'blackheads',\n",
       " 'scurring',\n",
       " 'skin peeling',\n",
       " 'silver like dusting',\n",
       " 'small dents in nails',\n",
       " 'inflammatory nails',\n",
       " 'blister',\n",
       " 'red sore around nose',\n",
       " 'yellow crust ooze',\n",
       " 'prognosis']"
      ]
     },
     "execution_count": 60,
     "metadata": {},
     "output_type": "execute_result"
    }
   ],
   "execution_count": 60
  }
 ],
 "metadata": {
  "kernelspec": {
   "display_name": "Python 3",
   "language": "python",
   "name": "python3"
  },
  "language_info": {
   "codemirror_mode": {
    "name": "ipython",
    "version": 2
   },
   "file_extension": ".py",
   "mimetype": "text/x-python",
   "name": "python",
   "nbconvert_exporter": "python",
   "pygments_lexer": "ipython2",
   "version": "2.7.6"
  }
 },
 "nbformat": 4,
 "nbformat_minor": 5
}
